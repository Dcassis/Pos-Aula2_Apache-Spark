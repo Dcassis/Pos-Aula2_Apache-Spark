{
 "cells": [
  {
   "cell_type": "code",
   "execution_count": 2,
   "id": "a3550062",
   "metadata": {},
   "outputs": [
    {
     "name": "stderr",
     "output_type": "stream",
     "text": [
      "24/06/19 19:22:07 WARN Utils: Your hostname, MacBook-Air-de-Daniel-2.local resolves to a loopback address: 127.0.0.1; using 192.168.0.2 instead (on interface en0)\n",
      "24/06/19 19:22:07 WARN Utils: Set SPARK_LOCAL_IP if you need to bind to another address\n",
      "Setting default log level to \"WARN\".\n",
      "To adjust logging level use sc.setLogLevel(newLevel). For SparkR, use setLogLevel(newLevel).\n",
      "24/06/19 19:22:08 WARN NativeCodeLoader: Unable to load native-hadoop library for your platform... using builtin-java classes where applicable\n"
     ]
    },
    {
     "data": {
      "text/plain": [
       "'3.5.1'"
      ]
     },
     "execution_count": 2,
     "metadata": {},
     "output_type": "execute_result"
    }
   ],
   "source": [
    "from pyspark.sql import SparkSession\n",
    "\n",
    "spark = SparkSession \\\n",
    "        .builder \\\n",
    "        .appName(\"Aula Interativa 2 - ML\") \\\n",
    "        .getOrCreate()\n",
    "\n",
    "spark.version"
   ]
  },
  {
   "cell_type": "code",
   "execution_count": 5,
   "id": "502cdf73",
   "metadata": {},
   "outputs": [
    {
     "name": "stdout",
     "output_type": "stream",
     "text": [
      "root\n",
      " |-- PassengerId: integer (nullable = true)\n",
      " |-- Survived: integer (nullable = true)\n",
      " |-- Pclass: integer (nullable = true)\n",
      " |-- Name: string (nullable = true)\n",
      " |-- Sex: string (nullable = true)\n",
      " |-- Age: double (nullable = true)\n",
      " |-- SibSp: integer (nullable = true)\n",
      " |-- Parch: integer (nullable = true)\n",
      " |-- Ticket: string (nullable = true)\n",
      " |-- Fare: double (nullable = true)\n",
      " |-- Cabin: string (nullable = true)\n",
      " |-- Embarked: string (nullable = true)\n",
      "\n"
     ]
    }
   ],
   "source": [
    "titanic_df = spark.read.csv('./titanic.csv', header='True', inferSchema='True')\n",
    "\n",
    "titanic_df.printSchema()\n",
    "\n"
   ]
  },
  {
   "cell_type": "code",
   "execution_count": 21,
   "id": "47ed65bd",
   "metadata": {},
   "outputs": [
    {
     "name": "stdout",
     "output_type": "stream",
     "text": [
      "+-----------+------+----------+\n",
      "|PassengerId|   Sex|SexIndexer|\n",
      "+-----------+------+----------+\n",
      "|          1|  male|       0.0|\n",
      "|          2|female|       1.0|\n",
      "|          3|female|       1.0|\n",
      "|          4|female|       1.0|\n",
      "|          5|  male|       0.0|\n",
      "|          6|  male|       0.0|\n",
      "|          7|  male|       0.0|\n",
      "|          8|  male|       0.0|\n",
      "|          9|female|       1.0|\n",
      "|         10|female|       1.0|\n",
      "+-----------+------+----------+\n",
      "only showing top 10 rows\n",
      "\n"
     ]
    }
   ],
   "source": [
    "# demostrando o sex_indexer\n",
    "from pyspark.ml.feature import StringIndexer, OneHotEncoder\n",
    "\n",
    "sex_indexer = StringIndexer(inputCol='Sex', outputCol='SexIndexer')\n",
    "sex_indexer.fit(titanic_df).transform(titanic_df).select(\"PassengerId\", \"Sex\",\"SexIndexer\").show(10)"
   ]
  },
  {
   "cell_type": "code",
   "execution_count": 22,
   "id": "7e02367c",
   "metadata": {},
   "outputs": [
    {
     "name": "stdout",
     "output_type": "stream",
     "text": [
      "+-----------+------+-------------+\n",
      "|PassengerId|   Sex|    SexVector|\n",
      "+-----------+------+-------------+\n",
      "|          1|  male|(1,[0],[1.0])|\n",
      "|          2|female|    (1,[],[])|\n",
      "|          3|female|    (1,[],[])|\n",
      "|          4|female|    (1,[],[])|\n",
      "|          5|  male|(1,[0],[1.0])|\n",
      "|          6|  male|(1,[0],[1.0])|\n",
      "|          7|  male|(1,[0],[1.0])|\n",
      "|          8|  male|(1,[0],[1.0])|\n",
      "|          9|female|    (1,[],[])|\n",
      "|         10|female|    (1,[],[])|\n",
      "+-----------+------+-------------+\n",
      "only showing top 10 rows\n",
      "\n"
     ]
    }
   ],
   "source": [
    "# demostrando o sex_encoder\n",
    "\n",
    "sex_encoder = OneHotEncoder(inputCol='SexIndexer', outputCol='SexVector')\n",
    "\n",
    "sex_indexer_model = sex_indexer.fit(titanic_df).transform(titanic_df)\n",
    "\n",
    "# https://stackoverflow.com/questions/42295001/how-to-interpret-results-of-spark-onehotencoder\n",
    "# primeiro valor: tamanho do vetor\n",
    "# segundo valor: índices dos valores que não são zero\n",
    "# terceiro valor: valores que não são zero\n",
    "sex_encoder.fit(sex_indexer_model).transform(sex_indexer_model).select(\"PassengerId\", \"Sex\",\"SexVector\").show(10)"
   ]
  },
  {
   "cell_type": "code",
   "execution_count": 53,
   "id": "ef8f8785",
   "metadata": {},
   "outputs": [],
   "source": [
    "from pyspark.ml.feature import VectorAssembler\n",
    "\n",
    "#assembler = VectorAssembler(inputCols=['SexVector','Age','Pclass', 'Fare'], outputCol='features')\n",
    "#assembler = VectorAssembler(inputCols=['Age', 'Pclass', 'Fare', 'SexVector'], outputCol='features')\n",
    "assembler = VectorAssembler(inputCols=['Age','SexVector'], outputCol='features')\n",
    "\n",
    "\n",
    "\n",
    "\n"
   ]
  },
  {
   "cell_type": "code",
   "execution_count": 56,
   "id": "09e22b83",
   "metadata": {},
   "outputs": [],
   "source": [
    "from pyspark.ml.classification import DecisionTreeClassifier\n",
    "\n",
    "classifier = DecisionTreeClassifier(labelCol='Survived', featuresCol='features')"
   ]
  },
  {
   "cell_type": "code",
   "execution_count": 55,
   "id": "eb650f0b",
   "metadata": {},
   "outputs": [],
   "source": [
    "from pyspark.ml import Pipeline\n",
    "\n",
    "pipeline = Pipeline(stages=[sex_indexer, sex_encoder, assembler, classifier])\n",
    "#pipeline = Pipeline(stages=[assembler, classifier])\n"
   ]
  },
  {
   "cell_type": "code",
   "execution_count": 57,
   "id": "73bb9205",
   "metadata": {},
   "outputs": [],
   "source": [
    "train_data, test_data = titanic_df.randomSplit([0.7, 0.3])"
   ]
  },
  {
   "cell_type": "code",
   "execution_count": 58,
   "id": "72c9332d",
   "metadata": {},
   "outputs": [],
   "source": [
    "predictSurvivedModel = pipeline.fit(train_data)"
   ]
  },
  {
   "cell_type": "code",
   "execution_count": 59,
   "id": "6563e950",
   "metadata": {},
   "outputs": [
    {
     "data": {
      "text/plain": [
       "29.699117647058763"
      ]
     },
     "execution_count": 59,
     "metadata": {},
     "output_type": "execute_result"
    }
   ],
   "source": [
    "mean_age = titanic_df.agg({'Age': 'mean'}).collect()[0][0]\n",
    "mean_age"
   ]
  },
  {
   "cell_type": "code",
   "execution_count": 60,
   "id": "ca6af02a",
   "metadata": {},
   "outputs": [],
   "source": [
    "titanic_df = titanic_df.fillna(mean_age, subset=['Age'])"
   ]
  },
  {
   "cell_type": "code",
   "execution_count": 61,
   "id": "d40cc60a",
   "metadata": {},
   "outputs": [],
   "source": [
    "train_data, test_data = titanic_df.randomSplit([0.7, 0.3])\n",
    "predictSurvivedModel = pipeline.fit(train_data)"
   ]
  },
  {
   "cell_type": "code",
   "execution_count": 62,
   "id": "afcd4bb2",
   "metadata": {},
   "outputs": [
    {
     "name": "stdout",
     "output_type": "stream",
     "text": [
      "+-----------+-------+------+-----------------+------+-------------+----------+\n",
      "|passengerId|   fare|pclass|              age|   sex|rawPrediction|prediction|\n",
      "+-----------+-------+------+-----------------+------+-------------+----------+\n",
      "|          2|71.2833|     1|             38.0|female| [45.0,138.0]|       1.0|\n",
      "|          4|   53.1|     1|             35.0|female| [45.0,138.0]|       1.0|\n",
      "|          7|51.8625|     1|             54.0|  male| [322.0,56.0]|       0.0|\n",
      "|          8| 21.075|     3|              2.0|  male|   [8.0,11.0]|       1.0|\n",
      "|         13|   8.05|     3|             20.0|  male| [322.0,56.0]|       0.0|\n",
      "|         19|   18.0|     3|             31.0|female| [45.0,138.0]|       1.0|\n",
      "|         27|  7.225|     3|29.69911764705882|  male| [322.0,56.0]|       0.0|\n",
      "|         31|27.7208|     1|             40.0|  male| [322.0,56.0]|       0.0|\n",
      "|         39|   18.0|     3|             18.0|female| [45.0,138.0]|       1.0|\n",
      "|         41|  9.475|     3|             40.0|female| [45.0,138.0]|       1.0|\n",
      "|         42|   21.0|     2|             27.0|female| [45.0,138.0]|       1.0|\n",
      "|         46|   8.05|     3|29.69911764705882|  male| [322.0,56.0]|       0.0|\n",
      "|         48|   7.75|     3|29.69911764705882|female| [45.0,138.0]|       1.0|\n",
      "|         50|   17.8|     3|             18.0|female| [45.0,138.0]|       1.0|\n",
      "|         51|39.6875|     3|              7.0|  male|   [8.0,11.0]|       1.0|\n",
      "|         53|76.7292|     1|             49.0|female|   [1.0,13.0]|       1.0|\n",
      "|         54|   26.0|     2|             29.0|female| [45.0,138.0]|       1.0|\n",
      "|         56|   35.5|     1|29.69911764705882|  male| [322.0,56.0]|       0.0|\n",
      "|         57|   10.5|     2|             21.0|female| [45.0,138.0]|       1.0|\n",
      "|         61| 7.2292|     3|             22.0|  male| [322.0,56.0]|       0.0|\n",
      "|         71|   10.5|     2|             32.0|  male| [322.0,56.0]|       0.0|\n",
      "|         72|   46.9|     3|             16.0|female| [45.0,138.0]|       1.0|\n",
      "|         74|14.4542|     3|             26.0|  male| [322.0,56.0]|       0.0|\n",
      "|         75|56.4958|     3|             32.0|  male| [322.0,56.0]|       0.0|\n",
      "|         79|   29.0|     2|             0.83|  male|   [8.0,11.0]|       1.0|\n",
      "|         82|    9.5|     3|             29.0|  male| [322.0,56.0]|       0.0|\n",
      "|         83| 7.7875|     3|29.69911764705882|female| [45.0,138.0]|       1.0|\n",
      "|         90|   8.05|     3|             24.0|  male| [322.0,56.0]|       0.0|\n",
      "|         94| 20.575|     3|             26.0|  male| [322.0,56.0]|       0.0|\n",
      "|         95|   7.25|     3|             59.0|  male| [322.0,56.0]|       0.0|\n",
      "|         98|63.3583|     1|             23.0|  male| [322.0,56.0]|       0.0|\n",
      "|         99|   23.0|     2|             34.0|female| [45.0,138.0]|       1.0|\n",
      "|        103|77.2875|     1|             21.0|  male| [322.0,56.0]|       0.0|\n",
      "|        107|   7.65|     3|             21.0|female| [45.0,138.0]|       1.0|\n",
      "|        108|  7.775|     3|29.69911764705882|  male| [322.0,56.0]|       0.0|\n",
      "|        111|   52.0|     1|             47.0|  male| [322.0,56.0]|       0.0|\n",
      "|        114|  9.825|     3|             20.0|female| [45.0,138.0]|       1.0|\n",
      "|        116|  7.925|     3|             21.0|  male| [322.0,56.0]|       0.0|\n",
      "|        125|77.2875|     1|             54.0|  male| [322.0,56.0]|       0.0|\n",
      "|        128| 7.1417|     3|             24.0|  male| [322.0,56.0]|       0.0|\n",
      "|        137|26.2833|     1|             19.0|female| [45.0,138.0]|       1.0|\n",
      "|        140|   79.2|     1|             24.0|  male| [322.0,56.0]|       0.0|\n",
      "|        143|  15.85|     3|             24.0|female| [45.0,138.0]|       1.0|\n",
      "|        145|   11.5|     2|             18.0|  male| [322.0,56.0]|       0.0|\n",
      "|        150|   13.0|     2|             42.0|  male| [322.0,56.0]|       0.0|\n",
      "|        152|   66.6|     1|             22.0|female| [45.0,138.0]|       1.0|\n",
      "|        155| 7.3125|     3|29.69911764705882|  male| [322.0,56.0]|       0.0|\n",
      "|        160|  69.55|     3|29.69911764705882|  male| [322.0,56.0]|       0.0|\n",
      "|        161|   16.1|     3|             44.0|  male| [322.0,56.0]|       0.0|\n",
      "|        166| 20.525|     3|              9.0|  male| [322.0,56.0]|       0.0|\n",
      "+-----------+-------+------+-----------------+------+-------------+----------+\n",
      "only showing top 50 rows\n",
      "\n"
     ]
    }
   ],
   "source": [
    "predictions = predictSurvivedModel.transform(test_data)\n",
    "predictions.select('passengerId', 'fare', 'pclass', 'age', 'sex', 'rawPrediction', 'prediction').show(50)\n",
    "\n"
   ]
  },
  {
   "cell_type": "code",
   "execution_count": 63,
   "id": "f2187111",
   "metadata": {},
   "outputs": [
    {
     "data": {
      "text/plain": [
       "0.7482758620689656"
      ]
     },
     "execution_count": 63,
     "metadata": {},
     "output_type": "execute_result"
    }
   ],
   "source": [
    "from pyspark.ml.evaluation import MulticlassClassificationEvaluator\n",
    "\n",
    "evaluator = MulticlassClassificationEvaluator(labelCol='Survived', predictionCol='prediction', metricName='accuracy')\n",
    "accuracy = evaluator.evaluate(predictions)\n",
    "\n",
    "accuracy\n",
    "\n"
   ]
  },
  {
   "cell_type": "code",
   "execution_count": 64,
   "id": "03b11af2",
   "metadata": {},
   "outputs": [],
   "source": [
    "decisionTreeModel = predictSurvivedModel.stages[-1]"
   ]
  },
  {
   "cell_type": "code",
   "execution_count": 65,
   "id": "1df1ab1c",
   "metadata": {},
   "outputs": [
    {
     "data": {
      "text/plain": [
       "3"
      ]
     },
     "execution_count": 65,
     "metadata": {},
     "output_type": "execute_result"
    }
   ],
   "source": [
    "decisionTreeModel.depth"
   ]
  },
  {
   "cell_type": "code",
   "execution_count": 66,
   "id": "19ddd149",
   "metadata": {},
   "outputs": [
    {
     "data": {
      "text/plain": [
       "'DecisionTreeClassificationModel: uid=DecisionTreeClassifier_6cefbdf254fa, depth=3, numNodes=9, numClasses=2, numFeatures=2\\n  If (feature 1 in {1.0})\\n   If (feature 0 <= 7.5)\\n    Predict: 1.0\\n   Else (feature 0 > 7.5)\\n    Predict: 0.0\\n  Else (feature 1 not in {1.0})\\n   If (feature 0 <= 48.5)\\n    If (feature 0 <= 44.5)\\n     Predict: 1.0\\n    Else (feature 0 > 44.5)\\n     Predict: 0.0\\n   Else (feature 0 > 48.5)\\n    Predict: 1.0\\n'"
      ]
     },
     "execution_count": 66,
     "metadata": {},
     "output_type": "execute_result"
    }
   ],
   "source": [
    "decisionTreeModel.toDebugString"
   ]
  },
  {
   "cell_type": "code",
   "execution_count": 67,
   "id": "bbfcd73f",
   "metadata": {},
   "outputs": [
    {
     "data": {
      "text/plain": [
       "['Age', 'SexVector']"
      ]
     },
     "execution_count": 67,
     "metadata": {},
     "output_type": "execute_result"
    }
   ],
   "source": [
    "assembler.getInputCols()\n"
   ]
  },
  {
   "cell_type": "code",
   "execution_count": 68,
   "id": "7afb7539",
   "metadata": {},
   "outputs": [
    {
     "data": {
      "text/plain": [
       "SparseVector(2, {0: 0.089, 1: 0.911})"
      ]
     },
     "execution_count": 68,
     "metadata": {},
     "output_type": "execute_result"
    }
   ],
   "source": [
    "decisionTreeModel.featureImportances"
   ]
  },
  {
   "cell_type": "code",
   "execution_count": 75,
   "id": "a4d9cfd9",
   "metadata": {},
   "outputs": [
    {
     "data": {
      "text/plain": [
       "[('Age', 0.08904209757149073), ('SexVector', 0.9109579024285093)]"
      ]
     },
     "execution_count": 75,
     "metadata": {},
     "output_type": "execute_result"
    }
   ],
   "source": [
    "\n",
    "list(zip(assembler.getInputCols(), decisionTreeModel.featureImportances))"
   ]
  },
  {
   "cell_type": "code",
   "execution_count": 71,
   "id": "2726734c",
   "metadata": {},
   "outputs": [
    {
     "data": {
      "text/plain": [
       "['Age', 'SexVector']"
      ]
     },
     "execution_count": 71,
     "metadata": {},
     "output_type": "execute_result"
    }
   ],
   "source": [
    "assembler.getInputCols()"
   ]
  },
  {
   "cell_type": "code",
   "execution_count": 76,
   "id": "f7f1e282",
   "metadata": {},
   "outputs": [
    {
     "name": "stderr",
     "output_type": "stream",
     "text": [
      "                                                                                \r"
     ]
    }
   ],
   "source": [
    "basePath = \"./titanic.csv\"\n",
    "decisionTreeModel.write().overwrite().save(basePath + \"/model2\")"
   ]
  },
  {
   "cell_type": "code",
   "execution_count": null,
   "id": "f9508a1a",
   "metadata": {},
   "outputs": [],
   "source": []
  }
 ],
 "metadata": {
  "kernelspec": {
   "display_name": "Python 3 (ipykernel)",
   "language": "python",
   "name": "python3"
  },
  "language_info": {
   "codemirror_mode": {
    "name": "ipython",
    "version": 3
   },
   "file_extension": ".py",
   "mimetype": "text/x-python",
   "name": "python",
   "nbconvert_exporter": "python",
   "pygments_lexer": "ipython3",
   "version": "3.12.3"
  }
 },
 "nbformat": 4,
 "nbformat_minor": 5
}
